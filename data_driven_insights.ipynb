{
  "nbformat": 4,
  "nbformat_minor": 0,
  "metadata": {
    "colab": {
      "provenance": []
    },
    "kernelspec": {
      "name": "python3",
      "display_name": "Python 3"
    },
    "language_info": {
      "name": "python"
    }
  },
  "cells": [
    {
      "cell_type": "markdown",
      "source": [
        "# Data Analysis: Insights Based on Python Structures\n",
        "\n",
        "The goal of this project is to explore and analyze sales data related to over-the-counter (OTC) medications in pharmacies. Using Python libraries such as pandas, numpy, and matplotlib, the project aims to generate descriptive insights from the sales data, including analysis of products, sellers, and sales volume.\n"
      ],
      "metadata": {
        "id": "0b23XKhrjTKq"
      }
    },
    {
      "cell_type": "code",
      "source": [
        "# Install necessary libraries\n",
        "!pip install pandas matplotlib numpy\n",
        "\n",
        "# Importing libraries\n",
        "import pandas as pd\n",
        "import numpy as np\n",
        "import matplotlib.pyplot as plt\n",
        "\n",
        "# importing the function Display() to better show the data\n",
        "import IPython.display as display"
      ],
      "metadata": {
        "id": "P6mxylnijjUk"
      },
      "execution_count": null,
      "outputs": []
    },
    {
      "cell_type": "markdown",
      "source": [
        "### **Data Loading**"
      ],
      "metadata": {
        "id": "Wubp-6XCkrsN"
      }
    },
    {
      "cell_type": "code",
      "source": [
        "# Load the data\n",
        "df = pd.read_csv('pharmacy_otc_sales_data.csv', encoding='latin1')\n",
        "\n",
        "# View the first few rows\n",
        "display.display(df.head())\n",
        "\n",
        "# Check the data types\n",
        "display.display(\"Data types: \")\n",
        "display.display(df.dtypes)\n",
        "\n",
        "# Check for any missing values\n",
        "display.display(\"Missing Values: \")\n",
        "display.display(df.isnull().sum())\n",
        "\n",
        "# Get summary statistics of the dataset\n",
        "display.display(\"Summary statistics: \")\n",
        "display.display(df.describe())"
      ],
      "metadata": {
        "id": "v6CEtec12ItZ"
      },
      "execution_count": null,
      "outputs": []
    },
    {
      "cell_type": "markdown",
      "source": [
        "### **Exploratory Data Analysis (EDA)**"
      ],
      "metadata": {
        "id": "i5Ql6M8LlEuK"
      }
    },
    {
      "cell_type": "code",
      "source": [
        "\n",
        "\n",
        "\n",
        "# Viewing unique products\n",
        "display.display(df['Product'].unique())\n",
        "\n",
        "# Count of samples per country\n",
        "count_country =  df['Country'].value_counts()\n",
        "display.display(count_country)\n",
        "\n",
        "# Count of samples per product\n",
        "count_product = df['Product'].value_counts()\n",
        "display.display(count_product)\n",
        "\n",
        "# Product with the highest sales amount\n",
        "product_with_higest_sales_amount = df.groupby('Product')['Amount ($)'].sum()\n",
        "display.display(product_with_higest_sales_amount)\n",
        "\n",
        "# Checking total sales by country\n",
        "country_sales = df.groupby('Country')['Amount ($)'].sum()\n",
        "country_sales.plot(kind='bar')\n",
        "plt.title('Sales By Country')\n",
        "plt.xlabel('Country')\n",
        "plt.ylabel('Amount')\n",
        "plt.show()\n",
        "\n",
        "#Sales tranding by region\n",
        "pivot = df.pivot_table(index='Country', columns='Sales Person', values='Amount ($)', aggfunc='sum')\n",
        "pivot.plot(kind='bar', stacked=True)\n",
        "plt.title(\"Stacked Sales by Region\")\n",
        "plt.ylabel(\"Sales Person\")\n",
        "plt.legend(loc='upper center', bbox_to_anchor=(0.5, -0.23), ncol=4)\n",
        "plt.show()"
      ],
      "metadata": {
        "id": "RT8y9TOvCmZ1"
      },
      "execution_count": null,
      "outputs": []
    },
    {
      "cell_type": "markdown",
      "source": [
        "### **Data Manipulation with Lists, Tuples, and Dictionaries in Python**"
      ],
      "metadata": {
        "id": "x0qncd35nlY8"
      }
    },
    {
      "cell_type": "code",
      "source": [
        "#printing all the column names\n",
        "for col in df.columns:\n",
        "  display.display(col)"
      ],
      "metadata": {
        "id": "KOoiWSZ27MSW"
      },
      "execution_count": null,
      "outputs": []
    },
    {
      "cell_type": "code",
      "source": [
        "#printing the first 7 products\n",
        "products = list(df['Product'])\n",
        "for product in products[:7]:\n",
        "  display.display(product)\n"
      ],
      "metadata": {
        "id": "MuIsxds3Hcr8"
      },
      "execution_count": null,
      "outputs": []
    },
    {
      "cell_type": "code",
      "source": [
        "# Creating a dictionary for top sellers ordered by sales amount\n",
        "top_seler = dict(zip(df['Sales Person'], df['Amount ($)']))\n",
        "ordered_top_sellers = sorted(top_seler.items(), key=lambda item: item[1], reverse=True)\n",
        "print(ordered_top_sellers)"
      ],
      "metadata": {
        "id": "02X8BgOYIjMW"
      },
      "execution_count": null,
      "outputs": []
    },
    {
      "cell_type": "code",
      "source": [
        "# Creating a tuple with selected sales data (from index 1 to 8)\n",
        "line = df.iloc[1:8]\n",
        "sellers =  (line['Sales Person'], line['Boxes Shipped'], line['Amount ($)'])\n",
        "\n",
        "# Converting the tuple into a DataFrame for better visualization\n",
        "seller_dataframe = pd.concat([line['Sales Person'], line['Boxes Shipped'], line['Amount ($)']], axis=1).sort_values(by='Amount ($)', ascending=False)\n",
        "\n",
        "# Displaying the seller dataframe\n",
        "display.display(seller_dataframe)\n",
        "\n",
        "# Grouped by seller and organized by amount\n",
        "total_sales_per_seller = seller_dataframe.groupby('Sales Person')['Amount ($)'].sum().sort_values(ascending=False)\n",
        "display.display(total_sales_per_seller)\n",
        "\n",
        "# Gourped by seller and organized by the boxes shiped\n",
        "total_boxes_per_seller = seller_dataframe.groupby('Sales Person')['Boxes Shipped'].sum().sort_values(ascending=False)\n",
        "display.display(total_boxes_per_seller)"
      ],
      "metadata": {
        "id": "VKq6pbPKRiGP"
      },
      "execution_count": null,
      "outputs": []
    },
    {
      "cell_type": "markdown",
      "source": [
        "### **Operations with Pandas and NumPy**"
      ],
      "metadata": {
        "id": "aa02SMQQrASg"
      }
    },
    {
      "cell_type": "code",
      "source": [
        "# Mean sales amount\n",
        "\n",
        "mean_sales = np.mean(df['Amount ($)'])\n",
        "display.display(f'Mean Sales: {mean_sales}')\n",
        "\n",
        "# Standard deviation of sales\n",
        "\n",
        "std_sales = np.std(df['Amount ($)'])\n",
        "display.display(f'Standard deviation of sales: {std_sales}')"
      ],
      "metadata": {
        "id": "MiLUoAqCZuP-"
      },
      "execution_count": null,
      "outputs": []
    },
    {
      "cell_type": "markdown",
      "source": [
        "### **Data Visualization with Matplotlib**"
      ],
      "metadata": {
        "id": "tRHOwgcKw7g7"
      }
    },
    {
      "cell_type": "code",
      "source": [
        "# Scatter plot for 'Boxes Shipped' vs 'Amount ($)'\n",
        "\n",
        "plt.scatter(df['Boxes Shipped'], df['Amount ($)'])\n",
        "plt.title('Relationship between Boxes Shipped and Amount ($)')\n",
        "plt.xlabel('Boxes Shipped')\n",
        "plt.ylabel('Amount')\n",
        "plt.show()\n",
        "\n",
        "# Observe sales trends over time\n",
        "\n",
        "#1st let`s restabilish the \"Date\" column before run the code to avoid errors\n",
        "df.reset_index(inplace=True)\n",
        "\n",
        "# Converting the column \"Date\" to type date (just in case)\n",
        "df['Date'] = pd.to_datetime(df['Date'])\n",
        "# defining the \"Date\" column as the index\n",
        "df.set_index('Date', inplace=True)\n",
        "#inplace=True means that the chage is gonna be\n",
        "#made into the original Dataframe without the necessity to create a temporary\n",
        "#variable\n",
        "df['Amount ($)'].resample('ME').sum().plot(kind='line')\n",
        "# .resample('ME') adjust to a monthly frequency\n",
        "# sum() -> sums the values\n",
        "# plot(kind='line') -> Creates a line graph\n",
        "plt.title('Monthly Sales')\n",
        "plt.xlabel('Month')\n",
        "plt.ylabel('Sales ($)')\n",
        "plt.show()"
      ],
      "metadata": {
        "id": "amPFEQf_w7Hg"
      },
      "execution_count": null,
      "outputs": []
    },
    {
      "cell_type": "markdown",
      "source": [
        "### **Final Report**\n",
        "\n",
        "Based on the analysis performed, the following insights were observed:\n",
        "\n",
        "1. Product Digestive Enzyme had the highest sales volume.\n",
        "2. Country USA had the largest total sales in monetary terms.\n",
        "3. Seller Nikhil Batra was the top performer in terms of sales, especially in the region USA."
      ],
      "metadata": {
        "id": "RmCwWcAI3ucF"
      }
    }
  ]
}